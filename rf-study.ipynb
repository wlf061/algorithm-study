{
 "cells": [
  {
   "cell_type": "code",
   "execution_count": 129,
   "metadata": {},
   "outputs": [
    {
     "data": {
      "text/plain": [
       "'\\n随机森林学习\\n'"
      ]
     },
     "execution_count": 129,
     "metadata": {},
     "output_type": "execute_result"
    }
   ],
   "source": [
    "\"\"\"\n",
    "随机森林学习\n",
    "\"\"\""
   ]
  },
  {
   "cell_type": "code",
   "execution_count": 130,
   "metadata": {},
   "outputs": [],
   "source": [
    "import numpy as np\n",
    "import pandas as pd\n",
    "import matplotlib.pyplot as plt\n",
    "import matplotlib as mpl\n",
    "from sklearn import tree\n",
    "from sklearn.ensemble import RandomForestClassifier\n",
    "from sklearn.model_selection import train_test_split\n",
    "from sklearn.pipeline import Pipeline\n",
    "from sklearn.pipeline import Pipeline\n",
    "from sklearn.grid_search import GridSearchCV\n",
    "from sklearn.preprocessing import MinMaxScaler\n",
    "from sklearn.decomposition import PCA\n",
    "from sklearn.preprocessing import Imputer\n",
    "from sklearn.preprocessing import label_binarize\n",
    "from sklearn import metrics"
   ]
  },
  {
   "cell_type": "code",
   "execution_count": 131,
   "metadata": {},
   "outputs": [],
   "source": [
    "mpl.rcParams['font.sans-serif'] = [u'SimHei']\n",
    "mpl.rcParams['axes.unicode_minus'] = False"
   ]
  },
  {
   "cell_type": "code",
   "execution_count": 132,
   "metadata": {},
   "outputs": [
    {
     "data": {
      "text/html": [
       "<div>\n",
       "<style scoped>\n",
       "    .dataframe tbody tr th:only-of-type {\n",
       "        vertical-align: middle;\n",
       "    }\n",
       "\n",
       "    .dataframe tbody tr th {\n",
       "        vertical-align: top;\n",
       "    }\n",
       "\n",
       "    .dataframe thead th {\n",
       "        text-align: right;\n",
       "    }\n",
       "</style>\n",
       "<table border=\"1\" class=\"dataframe\">\n",
       "  <thead>\n",
       "    <tr style=\"text-align: right;\">\n",
       "      <th></th>\n",
       "      <th>Age</th>\n",
       "      <th>Number of sexual partners</th>\n",
       "      <th>First sexual intercourse</th>\n",
       "      <th>Num of pregnancies</th>\n",
       "      <th>Smokes</th>\n",
       "      <th>Smokes (years)</th>\n",
       "      <th>Smokes (packs/year)</th>\n",
       "      <th>Hormonal Contraceptives</th>\n",
       "      <th>Hormonal Contraceptives (years)</th>\n",
       "      <th>IUD</th>\n",
       "      <th>...</th>\n",
       "      <th>STDs: Time since first diagnosis</th>\n",
       "      <th>STDs: Time since last diagnosis</th>\n",
       "      <th>Dx:Cancer</th>\n",
       "      <th>Dx:CIN</th>\n",
       "      <th>Dx:HPV</th>\n",
       "      <th>Dx</th>\n",
       "      <th>Hinselmann</th>\n",
       "      <th>Schiller</th>\n",
       "      <th>Citology</th>\n",
       "      <th>Biopsy</th>\n",
       "    </tr>\n",
       "  </thead>\n",
       "  <tbody>\n",
       "    <tr>\n",
       "      <th>0</th>\n",
       "      <td>18</td>\n",
       "      <td>4.0</td>\n",
       "      <td>15.0</td>\n",
       "      <td>1.0</td>\n",
       "      <td>0.0</td>\n",
       "      <td>0.0</td>\n",
       "      <td>0.0</td>\n",
       "      <td>0.0</td>\n",
       "      <td>0.0</td>\n",
       "      <td>0.0</td>\n",
       "      <td>...</td>\n",
       "      <td>?</td>\n",
       "      <td>?</td>\n",
       "      <td>0</td>\n",
       "      <td>0</td>\n",
       "      <td>0</td>\n",
       "      <td>0</td>\n",
       "      <td>0</td>\n",
       "      <td>0</td>\n",
       "      <td>0</td>\n",
       "      <td>0</td>\n",
       "    </tr>\n",
       "    <tr>\n",
       "      <th>1</th>\n",
       "      <td>15</td>\n",
       "      <td>1.0</td>\n",
       "      <td>14.0</td>\n",
       "      <td>1.0</td>\n",
       "      <td>0.0</td>\n",
       "      <td>0.0</td>\n",
       "      <td>0.0</td>\n",
       "      <td>0.0</td>\n",
       "      <td>0.0</td>\n",
       "      <td>0.0</td>\n",
       "      <td>...</td>\n",
       "      <td>?</td>\n",
       "      <td>?</td>\n",
       "      <td>0</td>\n",
       "      <td>0</td>\n",
       "      <td>0</td>\n",
       "      <td>0</td>\n",
       "      <td>0</td>\n",
       "      <td>0</td>\n",
       "      <td>0</td>\n",
       "      <td>0</td>\n",
       "    </tr>\n",
       "  </tbody>\n",
       "</table>\n",
       "<p>2 rows × 36 columns</p>\n",
       "</div>"
      ],
      "text/plain": [
       "   Age Number of sexual partners First sexual intercourse Num of pregnancies  \\\n",
       "0   18                       4.0                     15.0                1.0   \n",
       "1   15                       1.0                     14.0                1.0   \n",
       "\n",
       "  Smokes Smokes (years) Smokes (packs/year) Hormonal Contraceptives  \\\n",
       "0    0.0            0.0                 0.0                     0.0   \n",
       "1    0.0            0.0                 0.0                     0.0   \n",
       "\n",
       "  Hormonal Contraceptives (years)  IUD  ...    \\\n",
       "0                             0.0  0.0  ...     \n",
       "1                             0.0  0.0  ...     \n",
       "\n",
       "  STDs: Time since first diagnosis STDs: Time since last diagnosis Dx:Cancer  \\\n",
       "0                                ?                               ?         0   \n",
       "1                                ?                               ?         0   \n",
       "\n",
       "  Dx:CIN Dx:HPV Dx Hinselmann Schiller Citology Biopsy  \n",
       "0      0      0  0          0        0        0      0  \n",
       "1      0      0  0          0        0        0      0  \n",
       "\n",
       "[2 rows x 36 columns]"
      ]
     },
     "execution_count": 132,
     "metadata": {},
     "output_type": "execute_result"
    }
   ],
   "source": [
    "path = \"data/risk_factors_cervical_cancer.csv\"  # 数据文件路径\n",
    "data = pd.read_csv(path)\n",
    "data.head(2)"
   ]
  },
  {
   "cell_type": "code",
   "execution_count": 133,
   "metadata": {},
   "outputs": [
    {
     "data": {
      "text/plain": [
       "(36,)"
      ]
     },
     "execution_count": 133,
     "metadata": {},
     "output_type": "execute_result"
    }
   ],
   "source": [
    "colums = data.columns.values\n",
    "colums.shape"
   ]
  },
  {
   "cell_type": "code",
   "execution_count": 134,
   "metadata": {},
   "outputs": [
    {
     "data": {
      "text/html": [
       "<div>\n",
       "<style scoped>\n",
       "    .dataframe tbody tr th:only-of-type {\n",
       "        vertical-align: middle;\n",
       "    }\n",
       "\n",
       "    .dataframe tbody tr th {\n",
       "        vertical-align: top;\n",
       "    }\n",
       "\n",
       "    .dataframe thead th {\n",
       "        text-align: right;\n",
       "    }\n",
       "</style>\n",
       "<table border=\"1\" class=\"dataframe\">\n",
       "  <thead>\n",
       "    <tr style=\"text-align: right;\">\n",
       "      <th></th>\n",
       "      <th>Age</th>\n",
       "      <th>Number of sexual partners</th>\n",
       "      <th>First sexual intercourse</th>\n",
       "      <th>Num of pregnancies</th>\n",
       "      <th>Smokes</th>\n",
       "      <th>Smokes (years)</th>\n",
       "      <th>Smokes (packs/year)</th>\n",
       "      <th>Hormonal Contraceptives</th>\n",
       "      <th>Hormonal Contraceptives (years)</th>\n",
       "      <th>IUD</th>\n",
       "      <th>...</th>\n",
       "      <th>STDs:HIV</th>\n",
       "      <th>STDs:Hepatitis B</th>\n",
       "      <th>STDs:HPV</th>\n",
       "      <th>STDs: Number of diagnosis</th>\n",
       "      <th>STDs: Time since first diagnosis</th>\n",
       "      <th>STDs: Time since last diagnosis</th>\n",
       "      <th>Dx:Cancer</th>\n",
       "      <th>Dx:CIN</th>\n",
       "      <th>Dx:HPV</th>\n",
       "      <th>Dx</th>\n",
       "    </tr>\n",
       "  </thead>\n",
       "  <tbody>\n",
       "    <tr>\n",
       "      <th>0</th>\n",
       "      <td>18</td>\n",
       "      <td>4.0</td>\n",
       "      <td>15.0</td>\n",
       "      <td>1.0</td>\n",
       "      <td>0.0</td>\n",
       "      <td>0.0</td>\n",
       "      <td>0.0</td>\n",
       "      <td>0.0</td>\n",
       "      <td>0.0</td>\n",
       "      <td>0.0</td>\n",
       "      <td>...</td>\n",
       "      <td>0.0</td>\n",
       "      <td>0.0</td>\n",
       "      <td>0.0</td>\n",
       "      <td>0</td>\n",
       "      <td>?</td>\n",
       "      <td>?</td>\n",
       "      <td>0</td>\n",
       "      <td>0</td>\n",
       "      <td>0</td>\n",
       "      <td>0</td>\n",
       "    </tr>\n",
       "  </tbody>\n",
       "</table>\n",
       "<p>1 rows × 32 columns</p>\n",
       "</div>"
      ],
      "text/plain": [
       "   Age Number of sexual partners First sexual intercourse Num of pregnancies  \\\n",
       "0   18                       4.0                     15.0                1.0   \n",
       "\n",
       "  Smokes Smokes (years) Smokes (packs/year) Hormonal Contraceptives  \\\n",
       "0    0.0            0.0                 0.0                     0.0   \n",
       "\n",
       "  Hormonal Contraceptives (years)  IUD ... STDs:HIV STDs:Hepatitis B STDs:HPV  \\\n",
       "0                             0.0  0.0 ...      0.0              0.0      0.0   \n",
       "\n",
       "  STDs: Number of diagnosis STDs: Time since first diagnosis  \\\n",
       "0                         0                                ?   \n",
       "\n",
       "  STDs: Time since last diagnosis Dx:Cancer Dx:CIN Dx:HPV Dx  \n",
       "0                               ?         0      0      0  0  \n",
       "\n",
       "[1 rows x 32 columns]"
      ]
     },
     "execution_count": 134,
     "metadata": {},
     "output_type": "execute_result"
    }
   ],
   "source": [
    "X =  data.loc[:,colums[0:-4]]\n",
    "X.head(1)"
   ]
  },
  {
   "cell_type": "code",
   "execution_count": 135,
   "metadata": {},
   "outputs": [
    {
     "data": {
      "text/plain": [
       "{0: 803, 1: 55}"
      ]
     },
     "execution_count": 135,
     "metadata": {},
     "output_type": "execute_result"
    }
   ],
   "source": [
    "Y = data.loc[:,colums[-4:]]\n",
    "dict(Y['Biopsy'].value_counts())"
   ]
  },
  {
   "cell_type": "code",
   "execution_count": 136,
   "metadata": {},
   "outputs": [
    {
     "data": {
      "text/plain": [
       "'\\n=======================================数据预处理=================================\\nhttps://blog.csdn.net/sinat_35512245/article/details/79685891\\n'"
      ]
     },
     "execution_count": 136,
     "metadata": {},
     "output_type": "execute_result"
    }
   ],
   "source": [
    "\"\"\"\n",
    "=======================================数据预处理=================================\n",
    "https://blog.csdn.net/sinat_35512245/article/details/79685891\n",
    "\"\"\""
   ]
  },
  {
   "cell_type": "code",
   "execution_count": 137,
   "metadata": {},
   "outputs": [],
   "source": [
    "#### 1.查看是否有空数据"
   ]
  },
  {
   "cell_type": "code",
   "execution_count": 138,
   "metadata": {},
   "outputs": [
    {
     "name": "stdout",
     "output_type": "stream",
     "text": [
      "<class 'pandas.core.frame.DataFrame'>\n",
      "RangeIndex: 858 entries, 0 to 857\n",
      "Data columns (total 36 columns):\n",
      "Age                                   858 non-null int64\n",
      "Number of sexual partners             858 non-null object\n",
      "First sexual intercourse              858 non-null object\n",
      "Num of pregnancies                    858 non-null object\n",
      "Smokes                                858 non-null object\n",
      "Smokes (years)                        858 non-null object\n",
      "Smokes (packs/year)                   858 non-null object\n",
      "Hormonal Contraceptives               858 non-null object\n",
      "Hormonal Contraceptives (years)       858 non-null object\n",
      "IUD                                   858 non-null object\n",
      "IUD (years)                           858 non-null object\n",
      "STDs                                  858 non-null object\n",
      "STDs (number)                         858 non-null object\n",
      "STDs:condylomatosis                   858 non-null object\n",
      "STDs:cervical condylomatosis          858 non-null object\n",
      "STDs:vaginal condylomatosis           858 non-null object\n",
      "STDs:vulvo-perineal condylomatosis    858 non-null object\n",
      "STDs:syphilis                         858 non-null object\n",
      "STDs:pelvic inflammatory disease      858 non-null object\n",
      "STDs:genital herpes                   858 non-null object\n",
      "STDs:molluscum contagiosum            858 non-null object\n",
      "STDs:AIDS                             858 non-null object\n",
      "STDs:HIV                              858 non-null object\n",
      "STDs:Hepatitis B                      858 non-null object\n",
      "STDs:HPV                              858 non-null object\n",
      "STDs: Number of diagnosis             858 non-null int64\n",
      "STDs: Time since first diagnosis      858 non-null object\n",
      "STDs: Time since last diagnosis       858 non-null object\n",
      "Dx:Cancer                             858 non-null int64\n",
      "Dx:CIN                                858 non-null int64\n",
      "Dx:HPV                                858 non-null int64\n",
      "Dx                                    858 non-null int64\n",
      "Hinselmann                            858 non-null int64\n",
      "Schiller                              858 non-null int64\n",
      "Citology                              858 non-null int64\n",
      "Biopsy                                858 non-null int64\n",
      "dtypes: int64(10), object(26)\n",
      "memory usage: 241.4+ KB\n"
     ]
    }
   ],
   "source": [
    "data.info()"
   ]
  },
  {
   "cell_type": "code",
   "execution_count": 139,
   "metadata": {},
   "outputs": [],
   "source": [
    "### 数据中有 ？ 的处理"
   ]
  },
  {
   "cell_type": "code",
   "execution_count": 140,
   "metadata": {},
   "outputs": [],
   "source": [
    "X = X.replace(\"?\", np.NAN)"
   ]
  },
  {
   "cell_type": "code",
   "execution_count": 141,
   "metadata": {},
   "outputs": [
    {
     "data": {
      "text/plain": [
       "array([18.        ,  4.        , 15.        ,  1.        ,  0.        ,\n",
       "        0.        ,  0.        ,  0.        ,  0.        ,  0.        ,\n",
       "        0.        ,  0.        ,  0.        ,  0.        ,  0.        ,\n",
       "        0.        ,  0.        ,  0.        ,  0.        ,  0.        ,\n",
       "        0.        ,  0.        ,  0.        ,  0.        ,  0.        ,\n",
       "        0.        ,  6.14084507,  5.81690141,  0.        ,  0.        ,\n",
       "        0.        ,  0.        ])"
      ]
     },
     "execution_count": 141,
     "metadata": {},
     "output_type": "execute_result"
    }
   ],
   "source": [
    "imputer = Imputer(missing_values=\"NaN\")\n",
    "X = imputer.fit_transform(X, Y)\n",
    "X[0] ###series 取行操作"
   ]
  },
  {
   "cell_type": "code",
   "execution_count": 142,
   "metadata": {},
   "outputs": [
    {
     "name": "stdout",
     "output_type": "stream",
     "text": [
      "训练样本数量:686,特征属性数目:32,目标属性数目:4\n",
      "测试样本数量:172\n"
     ]
    }
   ],
   "source": [
    "####数据分隔\n",
    "x_train,x_test,y_train,y_test = train_test_split(X, Y, test_size=0.2, random_state=0)\n",
    "print (\"训练样本数量:%d,特征属性数目:%d,目标属性数目:%d\" % (x_train.shape[0],x_train.shape[1],y_train.shape[1]))\n",
    "print (\"测试样本数量:%d\" % x_test.shape[0])"
   ]
  },
  {
   "cell_type": "code",
   "execution_count": 143,
   "metadata": {},
   "outputs": [],
   "source": [
    "###最大最小化"
   ]
  },
  {
   "cell_type": "code",
   "execution_count": 144,
   "metadata": {},
   "outputs": [],
   "source": [
    "ss = MinMaxScaler()\n",
    "x_train = ss.fit_transform(x_train)\n",
    "x_test = ss.transform(x_test)"
   ]
  },
  {
   "cell_type": "code",
   "execution_count": 145,
   "metadata": {},
   "outputs": [],
   "source": [
    "####降维\n",
    "pca = PCA(n_components=2)\n",
    "x_train = pca.fit_transform(x_train)\n",
    "x_test = pca.transform(x_test)"
   ]
  },
  {
   "cell_type": "code",
   "execution_count": 146,
   "metadata": {},
   "outputs": [
    {
     "data": {
      "text/plain": [
       "(686, 2)"
      ]
     },
     "execution_count": 146,
     "metadata": {},
     "output_type": "execute_result"
    }
   ],
   "source": [
    "x_train.shape"
   ]
  },
  {
   "cell_type": "code",
   "execution_count": 29,
   "metadata": {},
   "outputs": [
    {
     "data": {
      "text/plain": [
       "'\\n随机森林模型，参数分两部分：\\nRF 框架参数：\\nn_estimators: 最大迭代次数，或者说最大的弱学习器的个数\\noob_score: 是否采用袋外样本来评估模型的好坏，默认为False。\\ncriterion: CART 做划分时，对特征的评价标准。\\n            分类RF 对应的CART 分类树默认的基尼系数gini，另外一个可选择的标准是信息增益\\n            回归RF 对应的CART 回归树默认是均方差mse, 另一个可选的标准是mae(绝对值误差)。\\n决策树参数：\\nmax_features: RF 划分时考虑的最大特征数。 \\nmax_depth: 决策树的最大深度。推荐这个最大深度的值为10~100\\nmin_samples_split： 内部节点再划分需要的最小样本数；默认是2；\\n                    如果某节点的样本数小于min_samples_split， 则不会继续再尝试选择最优特征来进行划分\\nmin_samples_leaf： 这个值限制了叶子节点最少的样本数，如果节点的样本数量小于这个值， \\n                    则会和兄弟节点一起被剪枝。  \\n'"
      ]
     },
     "execution_count": 29,
     "metadata": {},
     "output_type": "execute_result"
    }
   ],
   "source": [
    "\"\"\"\n",
    "随机森林模型，参数分两部分：\n",
    "RF 框架参数：\n",
    "n_estimators: 最大迭代次数，或者说最大的弱学习器的个数\n",
    "oob_score: 是否采用袋外样本来评估模型的好坏，默认为False。\n",
    "criterion: CART 做划分时，对特征的评价标准。\n",
    "            分类RF 对应的CART 分类树默认的基尼系数gini，另外一个可选择的标准是信息增益\n",
    "            回归RF 对应的CART 回归树默认是均方差mse, 另一个可选的标准是mae(绝对值误差)。\n",
    "决策树参数：\n",
    "max_features: RF 划分时考虑的最大特征数。 \n",
    "max_depth: 决策树的最大深度。推荐这个最大深度的值为10~100\n",
    "min_samples_split： 内部节点再划分需要的最小样本数；默认是2；\n",
    "                    如果某节点的样本数小于min_samples_split， 则不会继续再尝试选择最优特征来进行划分\n",
    "min_samples_leaf： 这个值限制了叶子节点最少的样本数，如果节点的样本数量小于这个值， \n",
    "                    则会和兄弟节点一起被剪枝。  \n",
    "\"\"\""
   ]
  },
  {
   "cell_type": "code",
   "execution_count": 30,
   "metadata": {},
   "outputs": [
    {
     "data": {
      "text/plain": [
       "RandomForestClassifier(bootstrap=True, class_weight=None, criterion='gini',\n",
       "            max_depth=1, max_features='auto', max_leaf_nodes=None,\n",
       "            min_impurity_decrease=0.0, min_impurity_split=None,\n",
       "            min_samples_leaf=1, min_samples_split=2,\n",
       "            min_weight_fraction_leaf=0.0, n_estimators=100, n_jobs=1,\n",
       "            oob_score=False, random_state=0, verbose=0, warm_start=False)"
      ]
     },
     "execution_count": 30,
     "metadata": {},
     "output_type": "execute_result"
    }
   ],
   "source": [
    "forest = RandomForestClassifier(n_estimators=100, criterion='gini', max_depth=1, random_state=0)\n",
    "forest.fit(x_train, y_train)"
   ]
  },
  {
   "cell_type": "code",
   "execution_count": 31,
   "metadata": {},
   "outputs": [
    {
     "data": {
      "text/plain": [
       "'\\n模型效果评估： AUC和ROC\\n'"
      ]
     },
     "execution_count": 31,
     "metadata": {},
     "output_type": "execute_result"
    }
   ],
   "source": [
    "\"\"\"\n",
    "模型效果评估： AUC和ROC\n",
    "\"\"\""
   ]
  },
  {
   "cell_type": "code",
   "execution_count": 32,
   "metadata": {},
   "outputs": [
    {
     "name": "stdout",
     "output_type": "stream",
     "text": [
      "准确率：89.53%\n"
     ]
    }
   ],
   "source": [
    "score = forest.score(x_test,y_test)\n",
    "print(\"准确率：%.2f%%\" % (score * 100))"
   ]
  },
  {
   "cell_type": "code",
   "execution_count": 88,
   "metadata": {},
   "outputs": [
    {
     "data": {
      "text/plain": [
       "(172, 2)"
      ]
     },
     "execution_count": 88,
     "metadata": {},
     "output_type": "execute_result"
    }
   ],
   "source": [
    "####模型预测\n",
    "forest_y_score = forest.predict_proba(x_test)"
   ]
  },
  {
   "cell_type": "code",
   "execution_count": 84,
   "metadata": {},
   "outputs": [],
   "source": [
    "#计算ROC值\n",
    "forest_fpr1, forest_tpr1, _ = metrics.roc_curve(label_binarize(y_test[colums[-4]],classes=(0,1,2)).T[0:-1].T.ravel(), forest_y_score[0].ravel())\n",
    "forest_fpr2, forest_tpr2, _ = metrics.roc_curve(label_binarize(y_test[colums[-3]],classes=(0,1,2)).T[0:-1].T.ravel(), forest_y_score[1].ravel())\n",
    "forest_fpr3, forest_tpr3, _ = metrics.roc_curve(label_binarize(y_test[colums[-2]],classes=(0,1,2)).T[0:-1].T.ravel(), forest_y_score[2].ravel())\n",
    "forest_fpr4, forest_tpr4, _ = metrics.roc_curve(label_binarize(y_test[colums[-1]],classes=(0,1,2)).T[0:-1].T.ravel(), forest_y_score[3].ravel())"
   ]
  },
  {
   "cell_type": "code",
   "execution_count": 87,
   "metadata": {},
   "outputs": [
    {
     "data": {
      "text/plain": [
       "(36,)"
      ]
     },
     "execution_count": 87,
     "metadata": {},
     "output_type": "execute_result"
    }
   ],
   "source": [
    "forest_fpr1.shape"
   ]
  },
  {
   "cell_type": "code",
   "execution_count": 89,
   "metadata": {},
   "outputs": [
    {
     "name": "stdout",
     "output_type": "stream",
     "text": [
      "Hinselmann目标属性AUC值： 0.9901974040021634\n",
      "Schiller目标属性AUC值： 0.9559221200648998\n",
      "Citology目标属性AUC值： 0.9637979989183343\n",
      "Biopsy目标属性AUC值： 0.9568685776095187\n"
     ]
    }
   ],
   "source": [
    "#AUC值\n",
    "auc1 = metrics.auc(forest_fpr1, forest_tpr1)\n",
    "auc2 = metrics.auc(forest_fpr2, forest_tpr2)\n",
    "auc3 = metrics.auc(forest_fpr3, forest_tpr3)\n",
    "auc4 = metrics.auc(forest_fpr4, forest_tpr4)\n",
    "\n",
    "print (\"Hinselmann目标属性AUC值：\", auc1)\n",
    "print (\"Schiller目标属性AUC值：\", auc2)\n",
    "print (\"Citology目标属性AUC值：\", auc3)\n",
    "print (\"Biopsy目标属性AUC值：\", auc4)"
   ]
  },
  {
   "cell_type": "code",
   "execution_count": 90,
   "metadata": {},
   "outputs": [
    {
     "data": {
      "text/plain": [
       "'\\n参数调整，比较效果\\n'"
      ]
     },
     "execution_count": 90,
     "metadata": {},
     "output_type": "execute_result"
    }
   ],
   "source": [
    "\"\"\"\n",
    "参数调整，比较效果\n",
    "\"\"\""
   ]
  },
  {
   "cell_type": "code",
   "execution_count": null,
   "metadata": {},
   "outputs": [],
   "source": [
    "###GridSearch 调整模型的迭代次数： n_estimators\n"
   ]
  },
  {
   "cell_type": "code",
   "execution_count": 94,
   "metadata": {},
   "outputs": [
    {
     "data": {
      "text/plain": [
       "([mean: 0.56764, std: 0.04135, params: {'n_estimators': 10},\n",
       "  mean: 0.55097, std: 0.05901, params: {'n_estimators': 20},\n",
       "  mean: 0.55312, std: 0.05771, params: {'n_estimators': 30},\n",
       "  mean: 0.56682, std: 0.08755, params: {'n_estimators': 40},\n",
       "  mean: 0.56311, std: 0.08798, params: {'n_estimators': 50},\n",
       "  mean: 0.55925, std: 0.08358, params: {'n_estimators': 60},\n",
       "  mean: 0.54874, std: 0.06371, params: {'n_estimators': 70},\n",
       "  mean: 0.54708, std: 0.06375, params: {'n_estimators': 80},\n",
       "  mean: 0.54679, std: 0.06346, params: {'n_estimators': 90}],\n",
       " {'n_estimators': 10},\n",
       " 0.567641597211095)"
      ]
     },
     "execution_count": 94,
     "metadata": {},
     "output_type": "execute_result"
    }
   ],
   "source": [
    "param_test1 = {'n_estimators':list(range(10,100,10))}\n",
    "gsearch1 = GridSearchCV(estimator = RandomForestClassifier(min_samples_split=100,max_depth=1,random_state=0), \n",
    "                       param_grid = param_test1, scoring='roc_auc',cv=5)\n",
    "gsearch1.fit(x_train, y_train)\n",
    "gsearch1.grid_scores_, gsearch1.best_params_, gsearch1.best_score_"
   ]
  },
  {
   "cell_type": "code",
   "execution_count": 101,
   "metadata": {},
   "outputs": [
    {
     "data": {
      "text/plain": [
       "([mean: 0.56764, std: 0.04135, params: {'max_depth': 1, 'n_estimators': 10},\n",
       "  mean: 0.55097, std: 0.05901, params: {'max_depth': 1, 'n_estimators': 20},\n",
       "  mean: 0.55312, std: 0.05771, params: {'max_depth': 1, 'n_estimators': 30},\n",
       "  mean: 0.56682, std: 0.08755, params: {'max_depth': 1, 'n_estimators': 40},\n",
       "  mean: 0.56311, std: 0.08798, params: {'max_depth': 1, 'n_estimators': 50},\n",
       "  mean: 0.55925, std: 0.08358, params: {'max_depth': 1, 'n_estimators': 60},\n",
       "  mean: 0.54874, std: 0.06371, params: {'max_depth': 1, 'n_estimators': 70},\n",
       "  mean: 0.54708, std: 0.06375, params: {'max_depth': 1, 'n_estimators': 80},\n",
       "  mean: 0.54679, std: 0.06346, params: {'max_depth': 1, 'n_estimators': 90},\n",
       "  mean: 0.54916, std: 0.06262, params: {'max_depth': 1, 'n_estimators': 100},\n",
       "  mean: 0.56905, std: 0.07986, params: {'max_depth': 3, 'n_estimators': 10},\n",
       "  mean: 0.54655, std: 0.04575, params: {'max_depth': 3, 'n_estimators': 20},\n",
       "  mean: 0.54682, std: 0.04490, params: {'max_depth': 3, 'n_estimators': 30},\n",
       "  mean: 0.55951, std: 0.06333, params: {'max_depth': 3, 'n_estimators': 40},\n",
       "  mean: 0.55906, std: 0.04709, params: {'max_depth': 3, 'n_estimators': 50},\n",
       "  mean: 0.57011, std: 0.05246, params: {'max_depth': 3, 'n_estimators': 60},\n",
       "  mean: 0.57223, std: 0.05203, params: {'max_depth': 3, 'n_estimators': 70},\n",
       "  mean: 0.57008, std: 0.05313, params: {'max_depth': 3, 'n_estimators': 80},\n",
       "  mean: 0.56671, std: 0.05886, params: {'max_depth': 3, 'n_estimators': 90},\n",
       "  mean: 0.56993, std: 0.05570, params: {'max_depth': 3, 'n_estimators': 100},\n",
       "  mean: 0.57987, std: 0.08907, params: {'max_depth': 5, 'n_estimators': 10},\n",
       "  mean: 0.57462, std: 0.08218, params: {'max_depth': 5, 'n_estimators': 20},\n",
       "  mean: 0.56838, std: 0.07461, params: {'max_depth': 5, 'n_estimators': 30},\n",
       "  mean: 0.56965, std: 0.07254, params: {'max_depth': 5, 'n_estimators': 40},\n",
       "  mean: 0.57567, std: 0.06942, params: {'max_depth': 5, 'n_estimators': 50},\n",
       "  mean: 0.57694, std: 0.06702, params: {'max_depth': 5, 'n_estimators': 60},\n",
       "  mean: 0.57685, std: 0.06789, params: {'max_depth': 5, 'n_estimators': 70},\n",
       "  mean: 0.57691, std: 0.06537, params: {'max_depth': 5, 'n_estimators': 80},\n",
       "  mean: 0.57758, std: 0.06145, params: {'max_depth': 5, 'n_estimators': 90},\n",
       "  mean: 0.57771, std: 0.05879, params: {'max_depth': 5, 'n_estimators': 100},\n",
       "  mean: 0.56771, std: 0.07202, params: {'max_depth': 7, 'n_estimators': 10},\n",
       "  mean: 0.57058, std: 0.07766, params: {'max_depth': 7, 'n_estimators': 20},\n",
       "  mean: 0.56858, std: 0.08196, params: {'max_depth': 7, 'n_estimators': 30},\n",
       "  mean: 0.56693, std: 0.07320, params: {'max_depth': 7, 'n_estimators': 40},\n",
       "  mean: 0.57043, std: 0.07059, params: {'max_depth': 7, 'n_estimators': 50},\n",
       "  mean: 0.57285, std: 0.06472, params: {'max_depth': 7, 'n_estimators': 60},\n",
       "  mean: 0.57973, std: 0.06339, params: {'max_depth': 7, 'n_estimators': 70},\n",
       "  mean: 0.57964, std: 0.06358, params: {'max_depth': 7, 'n_estimators': 80},\n",
       "  mean: 0.58297, std: 0.05912, params: {'max_depth': 7, 'n_estimators': 90},\n",
       "  mean: 0.57953, std: 0.05819, params: {'max_depth': 7, 'n_estimators': 100},\n",
       "  mean: 0.57060, std: 0.06970, params: {'max_depth': 9, 'n_estimators': 10},\n",
       "  mean: 0.57313, std: 0.07959, params: {'max_depth': 9, 'n_estimators': 20},\n",
       "  mean: 0.56853, std: 0.07604, params: {'max_depth': 9, 'n_estimators': 30},\n",
       "  mean: 0.56807, std: 0.06984, params: {'max_depth': 9, 'n_estimators': 40},\n",
       "  mean: 0.56924, std: 0.07167, params: {'max_depth': 9, 'n_estimators': 50},\n",
       "  mean: 0.57325, std: 0.06948, params: {'max_depth': 9, 'n_estimators': 60},\n",
       "  mean: 0.58354, std: 0.06078, params: {'max_depth': 9, 'n_estimators': 70},\n",
       "  mean: 0.58150, std: 0.06116, params: {'max_depth': 9, 'n_estimators': 80},\n",
       "  mean: 0.58404, std: 0.06018, params: {'max_depth': 9, 'n_estimators': 90},\n",
       "  mean: 0.58301, std: 0.06122, params: {'max_depth': 9, 'n_estimators': 100},\n",
       "  mean: 0.57353, std: 0.06418, params: {'max_depth': 11, 'n_estimators': 10},\n",
       "  mean: 0.57546, std: 0.07690, params: {'max_depth': 11, 'n_estimators': 20},\n",
       "  mean: 0.57485, std: 0.07651, params: {'max_depth': 11, 'n_estimators': 30},\n",
       "  mean: 0.57274, std: 0.06916, params: {'max_depth': 11, 'n_estimators': 40},\n",
       "  mean: 0.57334, std: 0.07159, params: {'max_depth': 11, 'n_estimators': 50},\n",
       "  mean: 0.57406, std: 0.06599, params: {'max_depth': 11, 'n_estimators': 60},\n",
       "  mean: 0.58297, std: 0.05997, params: {'max_depth': 11, 'n_estimators': 70},\n",
       "  mean: 0.58129, std: 0.06062, params: {'max_depth': 11, 'n_estimators': 80},\n",
       "  mean: 0.58841, std: 0.06535, params: {'max_depth': 11, 'n_estimators': 90},\n",
       "  mean: 0.58863, std: 0.06327, params: {'max_depth': 11, 'n_estimators': 100},\n",
       "  mean: 0.57325, std: 0.06386, params: {'max_depth': 13, 'n_estimators': 10},\n",
       "  mean: 0.57609, std: 0.07419, params: {'max_depth': 13, 'n_estimators': 20},\n",
       "  mean: 0.57436, std: 0.07347, params: {'max_depth': 13, 'n_estimators': 30},\n",
       "  mean: 0.57166, std: 0.06952, params: {'max_depth': 13, 'n_estimators': 40},\n",
       "  mean: 0.57119, std: 0.07090, params: {'max_depth': 13, 'n_estimators': 50},\n",
       "  mean: 0.57324, std: 0.06591, params: {'max_depth': 13, 'n_estimators': 60},\n",
       "  mean: 0.58139, std: 0.05943, params: {'max_depth': 13, 'n_estimators': 70},\n",
       "  mean: 0.58100, std: 0.05914, params: {'max_depth': 13, 'n_estimators': 80},\n",
       "  mean: 0.58618, std: 0.06349, params: {'max_depth': 13, 'n_estimators': 90},\n",
       "  mean: 0.58750, std: 0.06160, params: {'max_depth': 13, 'n_estimators': 100}],\n",
       " {'max_depth': 11, 'n_estimators': 100},\n",
       " 0.5886320760153426)"
      ]
     },
     "execution_count": 101,
     "metadata": {},
     "output_type": "execute_result"
    }
   ],
   "source": [
    "#### 调整树的深度， 和n_estimators 一起学\n",
    "param_test2 = {'n_estimators':list(range(10,110,10)),'max_depth': list(range(1,14,2))}\n",
    "gsearch2 = GridSearchCV(estimator = RandomForestClassifier(min_samples_split=100,random_state=0), \n",
    "                       param_grid = param_test2, scoring='roc_auc',cv=5)\n",
    "gsearch2.fit(x_train, y_train)\n",
    "gsearch2.grid_scores_, gsearch2.best_params_, gsearch2.best_score_"
   ]
  },
  {
   "cell_type": "code",
   "execution_count": 102,
   "metadata": {},
   "outputs": [
    {
     "name": "stdout",
     "output_type": "stream",
     "text": [
      "准确率：87.79%\n"
     ]
    }
   ],
   "source": [
    "####通过选择的最好参数来查看AUC \n",
    "forest1 = RandomForestClassifier(n_estimators=100, criterion='gini', max_depth=11, random_state=0)\n",
    "forest1.fit(x_train, y_train)\n",
    "score = forest1.score(x_test,y_test)\n",
    "print(\"准确率：%.2f%%\" % (score * 100))"
   ]
  },
  {
   "cell_type": "code",
   "execution_count": null,
   "metadata": {},
   "outputs": [],
   "source": [
    "\"\"\"\n",
    "在选择好的参数基础上调整min_samples_split 和 min_samples_leaf\n",
    "\"\"\""
   ]
  },
  {
   "cell_type": "code",
   "execution_count": 103,
   "metadata": {},
   "outputs": [
    {
     "data": {
      "text/plain": [
       "([mean: 0.59136, std: 0.06060, params: {'min_samples_leaf': 10, 'min_samples_split': 80},\n",
       "  mean: 0.58690, std: 0.06048, params: {'min_samples_leaf': 10, 'min_samples_split': 100},\n",
       "  mean: 0.58559, std: 0.05548, params: {'min_samples_leaf': 10, 'min_samples_split': 120},\n",
       "  mean: 0.58643, std: 0.05950, params: {'min_samples_leaf': 10, 'min_samples_split': 140},\n",
       "  mean: 0.57729, std: 0.06430, params: {'min_samples_leaf': 20, 'min_samples_split': 80},\n",
       "  mean: 0.57748, std: 0.06139, params: {'min_samples_leaf': 20, 'min_samples_split': 100},\n",
       "  mean: 0.57709, std: 0.06237, params: {'min_samples_leaf': 20, 'min_samples_split': 120},\n",
       "  mean: 0.57625, std: 0.06590, params: {'min_samples_leaf': 20, 'min_samples_split': 140},\n",
       "  mean: 0.58283, std: 0.06892, params: {'min_samples_leaf': 30, 'min_samples_split': 80},\n",
       "  mean: 0.58216, std: 0.07170, params: {'min_samples_leaf': 30, 'min_samples_split': 100},\n",
       "  mean: 0.58387, std: 0.07130, params: {'min_samples_leaf': 30, 'min_samples_split': 120},\n",
       "  mean: 0.58458, std: 0.06734, params: {'min_samples_leaf': 30, 'min_samples_split': 140},\n",
       "  mean: 0.57897, std: 0.07164, params: {'min_samples_leaf': 40, 'min_samples_split': 80},\n",
       "  mean: 0.58126, std: 0.06561, params: {'min_samples_leaf': 40, 'min_samples_split': 100},\n",
       "  mean: 0.58004, std: 0.06422, params: {'min_samples_leaf': 40, 'min_samples_split': 120},\n",
       "  mean: 0.57696, std: 0.06191, params: {'min_samples_leaf': 40, 'min_samples_split': 140},\n",
       "  mean: 0.56988, std: 0.05344, params: {'min_samples_leaf': 50, 'min_samples_split': 80},\n",
       "  mean: 0.56988, std: 0.05344, params: {'min_samples_leaf': 50, 'min_samples_split': 100},\n",
       "  mean: 0.57412, std: 0.05382, params: {'min_samples_leaf': 50, 'min_samples_split': 120},\n",
       "  mean: 0.57663, std: 0.05076, params: {'min_samples_leaf': 50, 'min_samples_split': 140}],\n",
       " {'min_samples_leaf': 10, 'min_samples_split': 80},\n",
       " 0.5913592622550055)"
      ]
     },
     "execution_count": 103,
     "metadata": {},
     "output_type": "execute_result"
    }
   ],
   "source": [
    "param_test3 = {'min_samples_split':list(range(80,150,20)),'min_samples_leaf': list(range(10,60,10))}\n",
    "gsearch3 = GridSearchCV(estimator = RandomForestClassifier(n_estimators=100, criterion='gini', max_depth=11, random_state=0), \n",
    "                       param_grid = param_test3, scoring='roc_auc',cv=5)\n",
    "gsearch3.fit(x_train, y_train)\n",
    "gsearch3.grid_scores_, gsearch3.best_params_, gsearch3.best_score_"
   ]
  },
  {
   "cell_type": "code",
   "execution_count": 104,
   "metadata": {},
   "outputs": [
    {
     "name": "stdout",
     "output_type": "stream",
     "text": [
      "准确率：89.53%\n"
     ]
    }
   ],
   "source": [
    "####通过选择的最好参数来查看AUC \n",
    "forest1 = RandomForestClassifier(n_estimators=100, criterion='gini', max_depth=11, random_state=0,min_samples_leaf=10,min_samples_split=80)\n",
    "forest1.fit(x_train, y_train)\n",
    "score = forest1.score(x_test,y_test)\n",
    "print(\"准确率：%.2f%%\" % (score * 100))"
   ]
  },
  {
   "cell_type": "code",
   "execution_count": 148,
   "metadata": {},
   "outputs": [
    {
     "ename": "AttributeError",
     "evalue": "'RandomForestClassifier' object has no attribute 'oob_score_'",
     "traceback": [
      "\u001b[1;31m---------------------------------------------------------------------------\u001b[0m",
      "\u001b[1;31mAttributeError\u001b[0m                            Traceback (most recent call last)",
      "\u001b[1;32m<ipython-input-148-7e70b08f1f67>\u001b[0m in \u001b[0;36m<module>\u001b[1;34m()\u001b[0m\n\u001b[1;32m----> 1\u001b[1;33m \u001b[0mforest1\u001b[0m\u001b[1;33m.\u001b[0m\u001b[0moob_score_\u001b[0m\u001b[1;33m\u001b[0m\u001b[0m\n\u001b[0m",
      "\u001b[1;31mAttributeError\u001b[0m: 'RandomForestClassifier' object has no attribute 'oob_score_'"
     ],
     "output_type": "error"
    }
   ],
   "source": [
    "forest1.oob_score_"
   ]
  },
  {
   "cell_type": "code",
   "execution_count": null,
   "metadata": {},
   "outputs": [],
   "source": [
    "\"\"\"\n",
    "调整样本数：max_features\n",
    "\"\"\""
   ]
  },
  {
   "cell_type": "code",
   "execution_count": 147,
   "metadata": {},
   "outputs": [
    {
     "data": {
      "text/plain": [
       "([mean: 0.59136, std: 0.06060, params: {'max_features': 1}],\n",
       " {'max_features': 1},\n",
       " 0.5913592622550055)"
      ]
     },
     "execution_count": 147,
     "metadata": {},
     "output_type": "execute_result"
    }
   ],
   "source": [
    "param_test4 = {'max_features':list(range(1,2,1))}\n",
    "gsearch4 = GridSearchCV(estimator = RandomForestClassifier(n_estimators=100, criterion='gini', max_depth=11, random_state=0,min_samples_leaf=10,min_samples_split=80), \n",
    "                       param_grid = param_test4, scoring='roc_auc',cv=5)\n",
    "gsearch4.fit(x_train, y_train)\n",
    "gsearch4.grid_scores_, gsearch4.best_params_, gsearch4.best_score_"
   ]
  },
  {
   "cell_type": "code",
   "execution_count": null,
   "metadata": {},
   "outputs": [],
   "source": []
  }
 ],
 "metadata": {
  "kernelspec": {
   "display_name": "Python 3",
   "language": "python",
   "name": "python3"
  },
  "language_info": {
   "codemirror_mode": {
    "name": "ipython",
    "version": 3
   },
   "file_extension": ".py",
   "mimetype": "text/x-python",
   "name": "python",
   "nbconvert_exporter": "python",
   "pygments_lexer": "ipython3",
   "version": "3.6.4"
  },
  "widgets": {
   "application/vnd.jupyter.widget-state+json": {
    "state": {},
    "version_major": 2.0,
    "version_minor": 0.0
   }
  }
 },
 "nbformat": 4,
 "nbformat_minor": 1
}
